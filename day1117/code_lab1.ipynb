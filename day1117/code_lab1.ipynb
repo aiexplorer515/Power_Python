{
 "cells": [
  {
   "cell_type": "code",
   "execution_count": 4,
   "id": "3de99007-8cc5-488b-ae74-ab9b7beb189f",
   "metadata": {},
   "outputs": [
    {
     "name": "stdout",
     "output_type": "stream",
     "text": [
      "BTC_KRW\n",
      "btc_krw\n",
      "Btc_krw\n"
     ]
    }
   ],
   "source": [
    "ticker=\"btc_krw\"\n",
    "print(ticker.upper())\n",
    "print(ticker.lower())\n",
    "print(ticker.capitalize())"
   ]
  },
  {
   "cell_type": "code",
   "execution_count": 8,
   "id": "0b6f1f55-0475-4815-b428-c4dc687498a7",
   "metadata": {},
   "outputs": [
    {
     "name": "stdout",
     "output_type": "stream",
     "text": [
      "excel\n"
     ]
    }
   ],
   "source": [
    "file_name =\"보고서.xlsx\"\n",
    "if(file_name.endswith(\"xlsx\")):\n",
    "    print(\"excel\")\n",
    "else:\n",
    "    print(\"not excel\")"
   ]
  },
  {
   "cell_type": "code",
   "execution_count": 9,
   "id": "6decb2fa-4212-452c-abfb-a2b2af0efbd5",
   "metadata": {},
   "outputs": [
    {
     "data": {
      "text/plain": [
       "True"
      ]
     },
     "execution_count": 9,
     "metadata": {},
     "output_type": "execute_result"
    }
   ],
   "source": [
    "file_name=\"보고서.xlsx\"\n",
    "file_name.endswith((\"xlsx\", \"xls\"))"
   ]
  },
  {
   "cell_type": "code",
   "execution_count": 10,
   "id": "60bf0a25-68de-4f21-b5e9-0bb5eaf34a9c",
   "metadata": {},
   "outputs": [
    {
     "data": {
      "text/plain": [
       "True"
      ]
     },
     "execution_count": 10,
     "metadata": {},
     "output_type": "execute_result"
    }
   ],
   "source": [
    "file_name=\"2020_보고서.xlsx\"\n",
    "file_name.startswith(\"2020\")"
   ]
  },
  {
   "cell_type": "code",
   "execution_count": 11,
   "id": "56695a54-922e-4ab2-9ad5-fa3465cd3b2e",
   "metadata": {},
   "outputs": [
    {
     "data": {
      "text/plain": [
       "['hello', 'world']"
      ]
     },
     "execution_count": 11,
     "metadata": {},
     "output_type": "execute_result"
    }
   ],
   "source": [
    "a=\"hello world\"\n",
    "a.split()"
   ]
  },
  {
   "cell_type": "code",
   "execution_count": 12,
   "id": "f7689d10-72a7-4801-8890-33e59d70d4a7",
   "metadata": {},
   "outputs": [
    {
     "data": {
      "text/plain": [
       "['btc', 'krw']"
      ]
     },
     "execution_count": 12,
     "metadata": {},
     "output_type": "execute_result"
    }
   ],
   "source": [
    "ticker=\"btc_krw\"\n",
    "ticker.split(\"_\")"
   ]
  },
  {
   "cell_type": "code",
   "execution_count": 13,
   "id": "b5b93dac-9552-46d2-8028-a15947ca232c",
   "metadata": {},
   "outputs": [
    {
     "data": {
      "text/plain": [
       "['2020', '05', '01']"
      ]
     },
     "execution_count": 13,
     "metadata": {},
     "output_type": "execute_result"
    }
   ],
   "source": [
    "date=\"2020-05-01\"\n",
    "date.split(\"-\")"
   ]
  },
  {
   "cell_type": "code",
   "execution_count": 15,
   "id": "c98e1d39-af87-49d2-9f6a-b7285cf95f35",
   "metadata": {},
   "outputs": [
    {
     "data": {
      "text/plain": [
       "'039490'"
      ]
     },
     "execution_count": 15,
     "metadata": {},
     "output_type": "execute_result"
    }
   ],
   "source": [
    "data=\"039490   \"\n",
    "data.rstrip()"
   ]
  },
  {
   "cell_type": "code",
   "execution_count": 17,
   "id": "7cad9050-0808-4e92-9487-dff75dc15fab",
   "metadata": {},
   "outputs": [],
   "source": [
    "movie_rank=[\"닥터 스트레인지\", \"스플릿\", \"럭키\"]"
   ]
  },
  {
   "cell_type": "code",
   "execution_count": 18,
   "id": "653efeaf-efe4-49df-8a6e-f61eac8cc319",
   "metadata": {},
   "outputs": [],
   "source": [
    "movie_rank.append(\"배트맨\")"
   ]
  },
  {
   "cell_type": "code",
   "execution_count": 23,
   "id": "6ada5bda-3203-4902-a8d1-bebc65f5712d",
   "metadata": {},
   "outputs": [
    {
     "name": "stdout",
     "output_type": "stream",
     "text": [
      "['닥터 스트레인지', '슈퍼맨', '슈퍼맨', '슈퍼맨', '럭키', '배트맨']\n"
     ]
    }
   ],
   "source": [
    "movie_rank.insert(1, \"슈퍼맨\")\n",
    "print(movie_rank)"
   ]
  },
  {
   "cell_type": "code",
   "execution_count": 25,
   "id": "20e3a8d8-def6-41dd-80c0-4b36b65c948a",
   "metadata": {},
   "outputs": [
    {
     "data": {
      "text/plain": [
       "['닥터 스트레인지', '슈퍼맨']"
      ]
     },
     "execution_count": 25,
     "metadata": {},
     "output_type": "execute_result"
    }
   ],
   "source": [
    "del movie_rank[2]\n",
    "del movie_rank[2]\n",
    "movie_rank"
   ]
  },
  {
   "cell_type": "code",
   "execution_count": 27,
   "id": "d7752d79-8936-4f52-8075-d61c1e62f21f",
   "metadata": {},
   "outputs": [
    {
     "name": "stdout",
     "output_type": "stream",
     "text": [
      "['c', 'C++', 'java', 'python', 'go', 'c#']\n"
     ]
    }
   ],
   "source": [
    "lang1 = [\"c\", \"C++\", \"java\"]\n",
    "lang2 = [\"python\", \"go\", \"c#\"]\n",
    "langs = lang1 + lang2\n",
    "print(langs)"
   ]
  },
  {
   "cell_type": "code",
   "execution_count": 29,
   "id": "13cd972b-8fe0-47a4-8b53-40003331f052",
   "metadata": {},
   "outputs": [
    {
     "data": {
      "text/plain": [
       "(7, 1)"
      ]
     },
     "execution_count": 29,
     "metadata": {},
     "output_type": "execute_result"
    }
   ],
   "source": [
    "nums=[1,2,3,4,5,6,7]\n",
    "max(nums), min(nums)"
   ]
  },
  {
   "cell_type": "code",
   "execution_count": 30,
   "id": "2d71e053-fae8-4b63-a7b1-acbcb4e4f470",
   "metadata": {},
   "outputs": [
    {
     "data": {
      "text/plain": [
       "15"
      ]
     },
     "execution_count": 30,
     "metadata": {},
     "output_type": "execute_result"
    }
   ],
   "source": [
    "nums=[1,2,3,4,5]\n",
    "sum(nums)"
   ]
  },
  {
   "cell_type": "code",
   "execution_count": 34,
   "id": "d17b328c-3374-4a32-bb9d-49d02f42d9f4",
   "metadata": {},
   "outputs": [
    {
     "data": {
      "text/plain": [
       "7"
      ]
     },
     "execution_count": 34,
     "metadata": {},
     "output_type": "execute_result"
    }
   ],
   "source": [
    "cook=[\"피자\", \"김밥\", \"만두\", \"양념치킨\", \"족발\", \"피자\", \"김치만두\"]\n",
    "len(cook)"
   ]
  },
  {
   "cell_type": "code",
   "execution_count": 36,
   "id": "52d21ef4-1daa-4e39-8622-b6fb25b915fb",
   "metadata": {},
   "outputs": [
    {
     "data": {
      "text/plain": [
       "3.0"
      ]
     },
     "execution_count": 36,
     "metadata": {},
     "output_type": "execute_result"
    }
   ],
   "source": [
    "nums=[1,2,3,4,5]\n",
    "sum(nums)/len(nums)"
   ]
  },
  {
   "cell_type": "code",
   "execution_count": 38,
   "id": "43c2f25c-9f2c-4351-85e6-b12d259f729b",
   "metadata": {},
   "outputs": [
    {
     "data": {
      "text/plain": [
       "[100, 100, 140, 150, 160, 170]"
      ]
     },
     "execution_count": 38,
     "metadata": {},
     "output_type": "execute_result"
    }
   ],
   "source": [
    "price=['20180720',100,100,140,150,160,170]\n",
    "price[1:]"
   ]
  },
  {
   "cell_type": "code",
   "execution_count": 41,
   "id": "6dba185e-8925-4ce7-96fe-49c70c4684fe",
   "metadata": {},
   "outputs": [
    {
     "data": {
      "text/plain": [
       "[2, 4, 6, 8, 10]"
      ]
     },
     "execution_count": 41,
     "metadata": {},
     "output_type": "execute_result"
    }
   ],
   "source": [
    "nums=[1,2,3,4,5,6,7,8,9,10]\n",
    "nums[::2]\n",
    "nums[1::2]"
   ]
  },
  {
   "cell_type": "code",
   "execution_count": 44,
   "id": "6306ade9-9884-4e9b-9611-c8608e6ed55a",
   "metadata": {},
   "outputs": [
    {
     "data": {
      "text/plain": [
       "[5, 4, 3, 2, 1]"
      ]
     },
     "execution_count": 44,
     "metadata": {},
     "output_type": "execute_result"
    }
   ],
   "source": [
    "nums=[1,2,3,4,5]\n",
    "nums[::-1]"
   ]
  },
  {
   "cell_type": "code",
   "execution_count": 49,
   "id": "a737b529-4887-44af-9867-81f10d328142",
   "metadata": {},
   "outputs": [
    {
     "name": "stdout",
     "output_type": "stream",
     "text": [
      "출력 예시:\n",
      "삼성전자 Naver\n"
     ]
    }
   ],
   "source": [
    "interest=['삼성전자','LG전자','Naver']\n",
    "print(\"출력 예시:\")\n",
    "print(interest[0], interest[2])"
   ]
  },
  {
   "cell_type": "code",
   "execution_count": 51,
   "id": "c685ddf1-aa5c-4bba-a01f-d888729c80ef",
   "metadata": {},
   "outputs": [
    {
     "name": "stdout",
     "output_type": "stream",
     "text": [
      "삼성전자 LG전자 Naver\n"
     ]
    }
   ],
   "source": [
    "print(\" \".join(interest)) ##"
   ]
  },
  {
   "cell_type": "code",
   "execution_count": 52,
   "id": "036d92ac-16b5-4ddd-967b-b119c72bdea2",
   "metadata": {},
   "outputs": [
    {
     "data": {
      "text/plain": [
       "'삼성전자/LG전자/Naver'"
      ]
     },
     "execution_count": 52,
     "metadata": {},
     "output_type": "execute_result"
    }
   ],
   "source": [
    "'/'.join(interest)"
   ]
  },
  {
   "cell_type": "code",
   "execution_count": 54,
   "id": "dd10ef12-6be8-4aa0-8c1e-7d8166dc9e09",
   "metadata": {},
   "outputs": [
    {
     "name": "stdout",
     "output_type": "stream",
     "text": [
      "삼성전자\n",
      "LG전자\n",
      "Naver\n"
     ]
    }
   ],
   "source": [
    "print('\\n'.join(interest))"
   ]
  },
  {
   "cell_type": "code",
   "execution_count": 56,
   "id": "34b1a38f-f498-4f21-868f-e376f894846d",
   "metadata": {},
   "outputs": [
    {
     "data": {
      "text/plain": [
       "['삼성전자', 'LG전자', 'Naver']"
      ]
     },
     "execution_count": 56,
     "metadata": {},
     "output_type": "execute_result"
    }
   ],
   "source": [
    "string=\"삼성전자/LG전자/Naver\"\n",
    "interest=string.split('/')\n",
    "interest"
   ]
  },
  {
   "cell_type": "code",
   "execution_count": 60,
   "id": "31fbdd90-126b-4209-99dc-49006d11b4f0",
   "metadata": {},
   "outputs": [
    {
     "data": {
      "text/plain": [
       "[1, 2, 3, 4, 5, 9, 10]"
      ]
     },
     "execution_count": 60,
     "metadata": {},
     "output_type": "execute_result"
    }
   ],
   "source": [
    "data=[2,4,3,1,5,9,10]\n",
    "data.sort()\n",
    "data"
   ]
  },
  {
   "cell_type": "code",
   "execution_count": 61,
   "id": "9a549e91-f9d0-4fe6-90e8-3307bd4456ab",
   "metadata": {},
   "outputs": [
    {
     "name": "stdout",
     "output_type": "stream",
     "text": [
      "[1, 2, 3, 4, 5, 9, 10]\n"
     ]
    }
   ],
   "source": [
    "data = [2, 4, 3, 1, 5, 10, 9]\n",
    "data2 = sorted(data)\n",
    "print(data2)"
   ]
  },
  {
   "cell_type": "code",
   "execution_count": null,
   "id": "eb39dded-b7df-4205-aeac-b157b9b625a2",
   "metadata": {},
   "outputs": [],
   "source": [
    "my_variable=()"
   ]
  },
  {
   "cell_type": "code",
   "execution_count": 66,
   "id": "af3dccf1-218f-48c3-bae2-a4f22fb140ef",
   "metadata": {},
   "outputs": [],
   "source": [
    "movie_rank=(\"닥터스트레인지\",\"스플릿\",\"럭키\")"
   ]
  },
  {
   "cell_type": "code",
   "execution_count": 71,
   "id": "4eea3d3d-4434-4c2c-a4c3-77a5030c0d01",
   "metadata": {},
   "outputs": [
    {
     "data": {
      "text/plain": [
       "tuple"
      ]
     },
     "execution_count": 71,
     "metadata": {},
     "output_type": "execute_result"
    }
   ],
   "source": [
    "a=(1,)\n",
    "type(a)"
   ]
  },
  {
   "cell_type": "code",
   "execution_count": 72,
   "id": "5596bcfb-2de1-4b2f-8669-40d0e07ea8d9",
   "metadata": {},
   "outputs": [
    {
     "ename": "TypeError",
     "evalue": "'tuple' object does not support item assignment",
     "output_type": "error",
     "traceback": [
      "\u001b[1;31m---------------------------------------------------------------------------\u001b[0m",
      "\u001b[1;31mTypeError\u001b[0m                                 Traceback (most recent call last)",
      "Cell \u001b[1;32mIn [72], line 2\u001b[0m\n\u001b[0;32m      1\u001b[0m t\u001b[38;5;241m=\u001b[39m(\u001b[38;5;241m1\u001b[39m,\u001b[38;5;241m2\u001b[39m,\u001b[38;5;241m3\u001b[39m)\n\u001b[1;32m----> 2\u001b[0m \u001b[43mt\u001b[49m\u001b[43m[\u001b[49m\u001b[38;5;241;43m0\u001b[39;49m\u001b[43m]\u001b[49m\u001b[38;5;241m=\u001b[39m\u001b[38;5;124m'\u001b[39m\u001b[38;5;124ma\u001b[39m\u001b[38;5;124m'\u001b[39m\n",
      "\u001b[1;31mTypeError\u001b[0m: 'tuple' object does not support item assignment"
     ]
    }
   ],
   "source": [
    "t=(1,2,3)\n",
    "t[0]='a'"
   ]
  },
  {
   "cell_type": "code",
   "execution_count": 73,
   "id": "1905f34a-b9f8-4bbe-81d8-67f4ce2487f1",
   "metadata": {},
   "outputs": [
    {
     "data": {
      "text/plain": [
       "tuple"
      ]
     },
     "execution_count": 73,
     "metadata": {},
     "output_type": "execute_result"
    }
   ],
   "source": [
    "t=1,2,3,4\n",
    "type(t)"
   ]
  },
  {
   "cell_type": "code",
   "execution_count": 75,
   "id": "a5d6fb24-c78a-43bb-88cc-3066c7d342bd",
   "metadata": {},
   "outputs": [
    {
     "data": {
      "text/plain": [
       "('삼성전자', 'LG전자', 'SK Hynix')"
      ]
     },
     "execution_count": 75,
     "metadata": {},
     "output_type": "execute_result"
    }
   ],
   "source": [
    "interest=['삼성전자','LG전자','SK Hynix'] ###\n",
    "data=tuple(interest)\n",
    "data"
   ]
  },
  {
   "cell_type": "code",
   "execution_count": 76,
   "id": "ae6293c4-7a5b-4445-bdce-24d69b7ffae8",
   "metadata": {},
   "outputs": [
    {
     "name": "stdout",
     "output_type": "stream",
     "text": [
      "apple banana cake\n"
     ]
    }
   ],
   "source": [
    "temp=('apple','banana','cake')  ##\n",
    "a, b, c = temp\n",
    "print(a, b, c)"
   ]
  },
  {
   "cell_type": "code",
   "execution_count": 77,
   "id": "c2ae0464-6f61-4990-9e12-5a7e93495af0",
   "metadata": {},
   "outputs": [
    {
     "name": "stdout",
     "output_type": "stream",
     "text": [
      "(2, 4, 6, 8, 10, 12, 14, 16, 18, 20, 22, 24, 26, 28, 30, 32, 34, 36, 38, 40, 42, 44, 46, 48, 50, 52, 54, 56, 58, 60, 62, 64, 66, 68, 70, 72, 74, 76, 78, 80, 82, 84, 86, 88, 90, 92, 94, 96, 98)\n"
     ]
    }
   ],
   "source": [
    "data=tuple(range(2,100,2)) ###\n",
    "print(data)"
   ]
  },
  {
   "cell_type": "code",
   "execution_count": 79,
   "id": "2a98726b-46cd-44b9-a856-57520b810f76",
   "metadata": {},
   "outputs": [],
   "source": [
    "a, b, *c=(0,1,2,3,4,5)"
   ]
  },
  {
   "cell_type": "code",
   "execution_count": 84,
   "id": "60b73358-1fd9-48ab-ae28-7c579c729eb3",
   "metadata": {},
   "outputs": [
    {
     "data": {
      "text/plain": [
       "[8.8, 8.9, 8.7, 9.2, 9.3, 9.7, 9.9, 9.5]"
      ]
     },
     "execution_count": 84,
     "metadata": {},
     "output_type": "execute_result"
    }
   ],
   "source": [
    "scores=[8.8, 8.9, 8.7, 9.2, 9.3, 9.7, 9.9, 9.5, 7.8, 9.4]  ##\n",
    "*valid_score,_,_=scores\n",
    "valid_score"
   ]
  },
  {
   "cell_type": "code",
   "execution_count": 85,
   "id": "21645b26-23ff-421d-b4bb-c70484c44b77",
   "metadata": {},
   "outputs": [
    {
     "data": {
      "text/plain": [
       "[8.7, 9.2, 9.3, 9.7, 9.9, 9.5, 7.8, 9.4]"
      ]
     },
     "execution_count": 85,
     "metadata": {},
     "output_type": "execute_result"
    }
   ],
   "source": [
    "scores=[8.8, 8.9, 8.7, 9.2, 9.3, 9.7, 9.9, 9.5, 7.8, 9.4]  ##\n",
    "_,_,*valid_score=scores\n",
    "valid_score"
   ]
  },
  {
   "cell_type": "code",
   "execution_count": 86,
   "id": "0948a813-72fd-41e2-956c-a9bdf29addea",
   "metadata": {},
   "outputs": [
    {
     "data": {
      "text/plain": [
       "[8.9, 8.7, 9.2, 9.3, 9.7, 9.9, 9.5, 7.8]"
      ]
     },
     "execution_count": 86,
     "metadata": {},
     "output_type": "execute_result"
    }
   ],
   "source": [
    "_,*valid_score,_=scores\n",
    "valid_score"
   ]
  },
  {
   "cell_type": "code",
   "execution_count": 87,
   "id": "d6735c86-d252-4197-84ff-89132eb8ce3e",
   "metadata": {},
   "outputs": [],
   "source": [
    "temp={}"
   ]
  },
  {
   "cell_type": "code",
   "execution_count": 92,
   "id": "b9ce40f1-b0a0-49ee-859e-ed5684482450",
   "metadata": {},
   "outputs": [
    {
     "data": {
      "text/plain": [
       "{'메로나': 1000, '폴라포': 1200, '빵빠레': 1800, '조스바': 1200, '월드콘': 1500}"
      ]
     },
     "execution_count": 92,
     "metadata": {},
     "output_type": "execute_result"
    }
   ],
   "source": [
    "ice_cream={\"메로나\":1000, \"폴라포\":1200, \"빵빠레\":1800}\n",
    "ice_cream[\"조스바\"]=1200\n",
    "ice_cream[\"월드콘\"]=1500\n",
    "ice_cream"
   ]
  },
  {
   "cell_type": "code",
   "execution_count": 94,
   "id": "40e54a26-2cbe-478f-9c6d-c919a455f239",
   "metadata": {},
   "outputs": [
    {
     "name": "stdout",
     "output_type": "stream",
     "text": [
      "메로나가격: 1000\n"
     ]
    }
   ],
   "source": [
    "ice = {'메로나': 1000,\n",
    "       '폴로포': 1200,\n",
    "       '빵빠레': 1800,\n",
    "       '죠스바': 1200,\n",
    "       '월드콘': 1500}\n",
    "print(\"메로나가격:\",ice[\"메로나\"])"
   ]
  },
  {
   "cell_type": "code",
   "execution_count": 95,
   "id": "f165c803-20ce-41fb-a55f-6a67331b65f4",
   "metadata": {},
   "outputs": [
    {
     "data": {
      "text/plain": [
       "{'폴로포': 1200, '빵빠레': 1800, '죠스바': 1200, '월드콘': 1500}"
      ]
     },
     "execution_count": 95,
     "metadata": {},
     "output_type": "execute_result"
    }
   ],
   "source": [
    "del ice[\"메로나\"]\n",
    "ice"
   ]
  },
  {
   "cell_type": "code",
   "execution_count": 98,
   "id": "2389b0b0-f880-46d6-800f-9c028a9d3dd0",
   "metadata": {},
   "outputs": [
    {
     "data": {
      "text/plain": [
       "{'메로나': [300, 20], '비비빅': [400, 3]}"
      ]
     },
     "execution_count": 98,
     "metadata": {},
     "output_type": "execute_result"
    }
   ],
   "source": [
    "inventory={\"메로나\":[300,20], \"비비빅\":[400,3]}\n",
    "inventory"
   ]
  },
  {
   "cell_type": "code",
   "execution_count": 100,
   "id": "0011e475-1438-480d-8e64-a70fb51c4751",
   "metadata": {},
   "outputs": [
    {
     "name": "stdout",
     "output_type": "stream",
     "text": [
      "300\n",
      "20\n"
     ]
    }
   ],
   "source": [
    "print(inventory[\"메로나\"][0])\n",
    "print(inventory[\"메로나\"][1])"
   ]
  },
  {
   "cell_type": "code",
   "execution_count": 102,
   "id": "5b251cd1-435d-42ff-8c50-9f5b1f5d3399",
   "metadata": {},
   "outputs": [
    {
     "data": {
      "text/plain": [
       "{'메로나': [300, 20], '비비빅': [400, 3], '월드콘': [500, 7]}"
      ]
     },
     "execution_count": 102,
     "metadata": {},
     "output_type": "execute_result"
    }
   ],
   "source": [
    "inventory[\"월드콘\"]=[500,7]\n",
    "inventory"
   ]
  },
  {
   "cell_type": "code",
   "execution_count": 103,
   "id": "4d16308a-21db-4058-8300-a6b46008201f",
   "metadata": {},
   "outputs": [
    {
     "data": {
      "text/plain": [
       "['탱크보이', '폴라포', '빵빠레', '월드콘', '메로나']"
      ]
     },
     "execution_count": 103,
     "metadata": {},
     "output_type": "execute_result"
    }
   ],
   "source": [
    "icecream={'탱크보이':1200, '폴라포':1200, '빵빠레':1800, '월드콘':1500, '메로나':1000}\n",
    "ice=list(icecream.keys())\n",
    "ice"
   ]
  },
  {
   "cell_type": "code",
   "execution_count": 104,
   "id": "290b172b-d4ce-4c15-95b1-a7b9a5c6e8de",
   "metadata": {},
   "outputs": [
    {
     "data": {
      "text/plain": [
       "[1200, 1200, 1800, 1500, 1000]"
      ]
     },
     "execution_count": 104,
     "metadata": {},
     "output_type": "execute_result"
    }
   ],
   "source": [
    "icecream={'탱크보이':1200, '폴라포':1200, '빵빠레':1800, '월드콘':1500, '메로나':1000}\n",
    "ice=list(icecream.values())\n",
    "ice"
   ]
  },
  {
   "cell_type": "code",
   "execution_count": 105,
   "id": "25f3c80a-9549-442c-b409-fc2652276fa4",
   "metadata": {},
   "outputs": [
    {
     "data": {
      "text/plain": [
       "6700"
      ]
     },
     "execution_count": 105,
     "metadata": {},
     "output_type": "execute_result"
    }
   ],
   "source": [
    "sum(list(icecream.values()))"
   ]
  },
  {
   "cell_type": "code",
   "execution_count": 106,
   "id": "4841a973-2ff6-4e49-89ed-5110de25b66c",
   "metadata": {},
   "outputs": [
    {
     "data": {
      "text/plain": [
       "{'탱크보이': 1200,\n",
       " '폴라포': 1200,\n",
       " '빵빠레': 1800,\n",
       " '월드콘': 1500,\n",
       " '메로나': 1000,\n",
       " '팥빙수': 2700,\n",
       " '아맛나': 1000}"
      ]
     },
     "execution_count": 106,
     "metadata": {},
     "output_type": "execute_result"
    }
   ],
   "source": [
    "new_product={'팥빙수':2700, '아맛나':1000}\n",
    "icecream.update(new_product)\n",
    "icecream"
   ]
  },
  {
   "cell_type": "code",
   "execution_count": 110,
   "id": "5ff4e449-4d71-47bc-8ff9-9bbe3c5ef87a",
   "metadata": {},
   "outputs": [
    {
     "name": "stdout",
     "output_type": "stream",
     "text": [
      "{'apple': 300, 'pear': 250, 'peach': 400}\n"
     ]
    }
   ],
   "source": [
    "keys = (\"apple\", \"pear\", \"peach\")\n",
    "vals = (300, 250, 400)\n",
    "print(dict(zip(keys, vals)))"
   ]
  },
  {
   "cell_type": "code",
   "execution_count": 111,
   "id": "81a0674d-3a93-4092-a456-6235111cc5c4",
   "metadata": {},
   "outputs": [],
   "source": [
    "date = ['09/05', '09/06', '09/07', '09/08', '09/09']\n",
    "close_price = [10500, 10300, 10100, 10800, 11000]\n",
    "close_table=dict(zip(date, close_price))"
   ]
  },
  {
   "cell_type": "code",
   "execution_count": 113,
   "id": "35d2a8da-7735-4afd-8628-b5589d7208cb",
   "metadata": {},
   "outputs": [
    {
     "name": "stdin",
     "output_type": "stream",
     "text": [
      " hi, there\n"
     ]
    },
    {
     "name": "stdout",
     "output_type": "stream",
     "text": [
      "hi, therehi, there\n"
     ]
    }
   ],
   "source": [
    "a=input()\n",
    "print(a*2)"
   ]
  },
  {
   "cell_type": "code",
   "execution_count": 114,
   "id": "81e43981-40d2-4e7e-af92-332e41297135",
   "metadata": {},
   "outputs": [
    {
     "name": "stdin",
     "output_type": "stream",
     "text": [
      " 3\n"
     ]
    },
    {
     "name": "stdout",
     "output_type": "stream",
     "text": [
      "13\n"
     ]
    }
   ],
   "source": [
    "a = int(input())\n",
    "print(a+10)"
   ]
  },
  {
   "cell_type": "code",
   "execution_count": null,
   "id": "25a497ba-d8d3-498b-bf82-dc2aa2df1d57",
   "metadata": {},
   "outputs": [],
   "source": [
    "a "
   ]
  },
  {
   "cell_type": "code",
   "execution_count": null,
   "id": "87c4ac5d-a474-4e74-92ab-702f57ae9554",
   "metadata": {},
   "outputs": [],
   "source": []
  }
 ],
 "metadata": {
  "kernelspec": {
   "display_name": "Python 3 (ipykernel)",
   "language": "python",
   "name": "python3"
  },
  "language_info": {
   "codemirror_mode": {
    "name": "ipython",
    "version": 3
   },
   "file_extension": ".py",
   "mimetype": "text/x-python",
   "name": "python",
   "nbconvert_exporter": "python",
   "pygments_lexer": "ipython3",
   "version": "3.10.8"
  }
 },
 "nbformat": 4,
 "nbformat_minor": 5
}
