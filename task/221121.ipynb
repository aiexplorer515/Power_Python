{
 "cells": [
  {
   "cell_type": "code",
   "execution_count": 1,
   "id": "d0fc44c0-6d1d-4278-9246-0d60090ba518",
   "metadata": {},
   "outputs": [],
   "source": [
    "name = '홍길동'\n",
    "age = 20\n",
    "address = '서울'\n",
    "major = '컴'"
   ]
  },
  {
   "cell_type": "code",
   "execution_count": 2,
   "id": "03f30a94-c530-48e8-8aed-9fe81f99e23f",
   "metadata": {},
   "outputs": [],
   "source": [
    "student = {\n",
    "    'name' : name,\n",
    "    'age' : age,\n",
    "    'address' : address,\n",
    "    'major' : major\n",
    "}"
   ]
  },
  {
   "cell_type": "code",
   "execution_count": 3,
   "id": "87b3a705-3360-4f05-9e8f-11954e08f8b9",
   "metadata": {},
   "outputs": [],
   "source": [
    "student1 = {\n",
    "    'name' : '김',\n",
    "    'age' : 22,\n",
    "    'address' : '대전',\n",
    "    'major' : '컴'\n",
    "}"
   ]
  },
  {
   "cell_type": "code",
   "execution_count": 9,
   "id": "6204e037-e414-45f8-9467-c50429f5d7e0",
   "metadata": {},
   "outputs": [],
   "source": [
    "students = []"
   ]
  },
  {
   "cell_type": "code",
   "execution_count": 11,
   "id": "043e398a-fa24-49f9-8d53-a95d214b8113",
   "metadata": {},
   "outputs": [],
   "source": [
    "students = [0]*10 # 초기화 10개 공간"
   ]
  },
  {
   "cell_type": "code",
   "execution_count": 12,
   "id": "3a4ec2c4-cd53-4b45-ba02-128807f9cc93",
   "metadata": {},
   "outputs": [],
   "source": [
    "students[0] = [students]"
   ]
  },
  {
   "cell_type": "code",
   "execution_count": 17,
   "id": "b864843d-1db4-4249-a8f2-452d077879bf",
   "metadata": {},
   "outputs": [],
   "source": [
    "students[:0:1] = [student]"
   ]
  },
  {
   "cell_type": "code",
   "execution_count": 18,
   "id": "72a9393b-875f-456f-b080-fb76788b996a",
   "metadata": {},
   "outputs": [],
   "source": [
    "students[1] = [student1]"
   ]
  },
  {
   "cell_type": "code",
   "execution_count": 19,
   "id": "cbf67282-ab9c-4f9d-a090-b9738d46cb11",
   "metadata": {},
   "outputs": [
    {
     "data": {
      "text/plain": [
       "[{'name': '홍길동', 'age': 20, 'address': '서울', 'major': '컴'},\n",
       " [{'name': '김', 'age': 22, 'address': '대전', 'major': '컴'}],\n",
       " [[...]],\n",
       " 0,\n",
       " 0,\n",
       " 0,\n",
       " 0,\n",
       " 0,\n",
       " 0,\n",
       " 0,\n",
       " 0,\n",
       " 0]"
      ]
     },
     "execution_count": 19,
     "metadata": {},
     "output_type": "execute_result"
    }
   ],
   "source": [
    "students"
   ]
  },
  {
   "cell_type": "code",
   "execution_count": 35,
   "id": "fa9de5ad-bbd7-4091-9847-35e63f9dac40",
   "metadata": {},
   "outputs": [],
   "source": [
    "student1 = {\n",
    "    'name' : '고두동',\n",
    "    'age' : 55,\n",
    "    'address' : '부산',\n",
    "    'major' : '경제'\n",
    "}"
   ]
  },
  {
   "cell_type": "code",
   "execution_count": 22,
   "id": "0c9b22b7-10f4-4b84-8f66-183da1f1e99d",
   "metadata": {},
   "outputs": [],
   "source": [
    "students.append(student1)"
   ]
  },
  {
   "cell_type": "code",
   "execution_count": 23,
   "id": "16b4c625-fd17-44f5-83a7-d8bd161c3289",
   "metadata": {},
   "outputs": [],
   "source": [
    "students.insert(0, student1)"
   ]
  },
  {
   "cell_type": "code",
   "execution_count": 37,
   "id": "6647624c-ea4c-4676-98d1-fc642eff1d2d",
   "metadata": {},
   "outputs": [
    {
     "data": {
      "text/plain": [
       "[{'name': '고두동', 'age': 55, 'address': '부산', 'major': '경제'},\n",
       " {'name': '고기동', 'age': 55, 'address': '부산', 'major': '경제'},\n",
       " {'name': '고기동', 'age': 55, 'address': '부산', 'major': '경제'},\n",
       " {'name': '홍길동', 'age': 20, 'address': '서울', 'major': '컴'},\n",
       " {'name': '홍길동', 'age': 20, 'address': '서울', 'major': '컴'},\n",
       " {'name': '홍길동', 'age': 20, 'address': '서울', 'major': '컴'},\n",
       " {'name': '고길동', 'age': 55, 'address': '부산', 'major': '경제'},\n",
       " {'name': '홍길동', 'age': 20, 'address': '서울', 'major': '컴'},\n",
       " [{'name': '김', 'age': 22, 'address': '대전', 'major': '컴'}],\n",
       " [{'name': '고길동', 'age': 55, 'address': '부산', 'major': '경제'}],\n",
       " 0,\n",
       " 0,\n",
       " 0,\n",
       " 0,\n",
       " 0,\n",
       " 0,\n",
       " 0,\n",
       " 0,\n",
       " 0,\n",
       " {'name': '고길동', 'age': 55, 'address': '부산', 'major': '경제'}]"
      ]
     },
     "execution_count": 37,
     "metadata": {},
     "output_type": "execute_result"
    }
   ],
   "source": [
    "students"
   ]
  },
  {
   "cell_type": "code",
   "execution_count": 25,
   "id": "d2006cd4-4c1c-49e3-a80d-d253768fb745",
   "metadata": {},
   "outputs": [
    {
     "data": {
      "text/plain": [
       "14"
      ]
     },
     "execution_count": 25,
     "metadata": {},
     "output_type": "execute_result"
    }
   ],
   "source": [
    "len(students)"
   ]
  },
  {
   "cell_type": "code",
   "execution_count": 26,
   "id": "1b5f199d-83e9-4f04-b400-a7a6def7ac55",
   "metadata": {},
   "outputs": [
    {
     "data": {
      "text/plain": [
       "{'name': '고길동', 'age': 55, 'address': '부산', 'major': '경제'}"
      ]
     },
     "execution_count": 26,
     "metadata": {},
     "output_type": "execute_result"
    }
   ],
   "source": [
    "students[0]"
   ]
  },
  {
   "cell_type": "code",
   "execution_count": 31,
   "id": "e829f7ae-5cd1-4a53-a0c8-c41e2bb9b82d",
   "metadata": {},
   "outputs": [],
   "source": [
    "students[:0:1]=[student1] # 맨 처음에 insert"
   ]
  },
  {
   "cell_type": "code",
   "execution_count": 36,
   "id": "40123895-6816-4a69-9f56-e9c3fffe90c1",
   "metadata": {},
   "outputs": [],
   "source": [
    "students[:0]=[student1] "
   ]
  },
  {
   "cell_type": "code",
   "execution_count": 38,
   "id": "553a3792-d9f0-4763-adc6-ac2aae2cd901",
   "metadata": {},
   "outputs": [],
   "source": [
    "student1 = {\n",
    "    'name' : '권순찬',\n",
    "    'age' : 22,\n",
    "    'address' : '대전',\n",
    "    'major' : '컴'\n",
    "}"
   ]
  },
  {
   "cell_type": "code",
   "execution_count": 41,
   "id": "12b6684c-830b-4590-a7b7-9a47166d1ed6",
   "metadata": {},
   "outputs": [],
   "source": [
    "students[5:8] = [student1, student1, student1]"
   ]
  },
  {
   "cell_type": "code",
   "execution_count": 42,
   "id": "0911fdff-d3f5-4dc8-977f-5188b597380b",
   "metadata": {},
   "outputs": [
    {
     "data": {
      "text/plain": [
       "[{'name': '고두동', 'age': 55, 'address': '부산', 'major': '경제'},\n",
       " {'name': '고기동', 'age': 55, 'address': '부산', 'major': '경제'},\n",
       " {'name': '고기동', 'age': 55, 'address': '부산', 'major': '경제'},\n",
       " {'name': '홍길동', 'age': 20, 'address': '서울', 'major': '컴'},\n",
       " {'name': '홍길동', 'age': 20, 'address': '서울', 'major': '컴'},\n",
       " {'name': '권순찬', 'age': 22, 'address': '대전', 'major': '컴'},\n",
       " {'name': '권순찬', 'age': 22, 'address': '대전', 'major': '컴'},\n",
       " {'name': '권순찬', 'age': 22, 'address': '대전', 'major': '컴'},\n",
       " [{'name': '김', 'age': 22, 'address': '대전', 'major': '컴'}],\n",
       " [{'name': '고길동', 'age': 55, 'address': '부산', 'major': '경제'}],\n",
       " 0,\n",
       " 0,\n",
       " 0,\n",
       " 0,\n",
       " 0,\n",
       " 0,\n",
       " 0,\n",
       " 0,\n",
       " 0,\n",
       " {'name': '고길동', 'age': 55, 'address': '부산', 'major': '경제'}]"
      ]
     },
     "execution_count": 42,
     "metadata": {},
     "output_type": "execute_result"
    }
   ],
   "source": [
    "students"
   ]
  },
  {
   "cell_type": "code",
   "execution_count": null,
   "id": "a4ed8106-b5ba-44f0-964d-9be432afd162",
   "metadata": {},
   "outputs": [],
   "source": [
    "### insert(), append()"
   ]
  },
  {
   "cell_type": "code",
   "execution_count": 74,
   "id": "b4fec0f1-f427-452d-abc9-e678e75c63ff",
   "metadata": {},
   "outputs": [],
   "source": [
    "students = []"
   ]
  },
  {
   "cell_type": "code",
   "execution_count": 72,
   "id": "befaebc9-f6ed-41a3-8dec-f6199b59700a",
   "metadata": {},
   "outputs": [
    {
     "ename": "TypeError",
     "evalue": "add_user() missing 4 required positional arguments: 'name', 'age', 'address', and 'major'",
     "output_type": "error",
     "traceback": [
      "\u001b[1;31m---------------------------------------------------------------------------\u001b[0m",
      "\u001b[1;31mTypeError\u001b[0m                                 Traceback (most recent call last)",
      "Cell \u001b[1;32mIn [72], line 9\u001b[0m\n\u001b[0;32m      2\u001b[0m     student \u001b[38;5;241m=\u001b[39m {\n\u001b[0;32m      3\u001b[0m         \u001b[38;5;124m'\u001b[39m\u001b[38;5;124mname\u001b[39m\u001b[38;5;124m'\u001b[39m : name,\n\u001b[0;32m      4\u001b[0m         \u001b[38;5;124m'\u001b[39m\u001b[38;5;124mage\u001b[39m\u001b[38;5;124m'\u001b[39m : age,\n\u001b[0;32m      5\u001b[0m         \u001b[38;5;124m'\u001b[39m\u001b[38;5;124maddress\u001b[39m\u001b[38;5;124m'\u001b[39m : address,\n\u001b[0;32m      6\u001b[0m         \u001b[38;5;124m'\u001b[39m\u001b[38;5;124mmajor\u001b[39m\u001b[38;5;124m'\u001b[39m : major\n\u001b[0;32m      7\u001b[0m     }\n\u001b[0;32m      8\u001b[0m     db\u001b[38;5;241m.\u001b[39mappend(student)     \n\u001b[1;32m----> 9\u001b[0m \u001b[43madd_user\u001b[49m\u001b[43m(\u001b[49m\u001b[43mstudent\u001b[49m\u001b[43m)\u001b[49m\n",
      "\u001b[1;31mTypeError\u001b[0m: add_user() missing 4 required positional arguments: 'name', 'age', 'address', and 'major'"
     ]
    }
   ],
   "source": [
    "def add_user(db:list, name:str, age:int,  address:str, major:str):\n",
    "    student = {\n",
    "        'name' : name,\n",
    "        'age' : age,\n",
    "        'address' : address,\n",
    "        'major' : major\n",
    "    }\n",
    "    db.append(student)     \n",
    "add_user(student)"
   ]
  },
  {
   "cell_type": "code",
   "execution_count": 73,
   "id": "84f24702-dfe9-471d-8a49-486760057690",
   "metadata": {},
   "outputs": [
    {
     "ename": "TypeError",
     "evalue": "add_user() missing 3 required positional arguments: 'age', 'address', and 'major'",
     "output_type": "error",
     "traceback": [
      "\u001b[1;31m---------------------------------------------------------------------------\u001b[0m",
      "\u001b[1;31mTypeError\u001b[0m                                 Traceback (most recent call last)",
      "Cell \u001b[1;32mIn [73], line 9\u001b[0m\n\u001b[0;32m      2\u001b[0m     student \u001b[38;5;241m=\u001b[39m {\n\u001b[0;32m      3\u001b[0m         \u001b[38;5;124m'\u001b[39m\u001b[38;5;124mname\u001b[39m\u001b[38;5;124m'\u001b[39m : name,\n\u001b[0;32m      4\u001b[0m         \u001b[38;5;124m'\u001b[39m\u001b[38;5;124mage\u001b[39m\u001b[38;5;124m'\u001b[39m : age,\n\u001b[0;32m      5\u001b[0m         \u001b[38;5;124m'\u001b[39m\u001b[38;5;124maddress\u001b[39m\u001b[38;5;124m'\u001b[39m : address,\n\u001b[0;32m      6\u001b[0m         \u001b[38;5;124m'\u001b[39m\u001b[38;5;124mmajor\u001b[39m\u001b[38;5;124m'\u001b[39m : major\n\u001b[0;32m      7\u001b[0m     }\n\u001b[0;32m      8\u001b[0m     students\u001b[38;5;241m.\u001b[39mappend(student)     \n\u001b[1;32m----> 9\u001b[0m \u001b[43madd_user\u001b[49m\u001b[43m(\u001b[49m\u001b[43mstudent\u001b[49m\u001b[43m)\u001b[49m\n",
      "\u001b[1;31mTypeError\u001b[0m: add_user() missing 3 required positional arguments: 'age', 'address', and 'major'"
     ]
    }
   ],
   "source": [
    "def add_user(name:str, age:int,  address:str, major:str):\n",
    "    student = {\n",
    "        'name' : name,\n",
    "        'age' : age,\n",
    "        'address' : address,\n",
    "        'major' : major\n",
    "    }\n",
    "    students.append(student)     \n",
    "add_user(student)"
   ]
  },
  {
   "cell_type": "code",
   "execution_count": 75,
   "id": "adf00e47-42a4-497d-be8e-17324a62fffc",
   "metadata": {},
   "outputs": [],
   "source": [
    "def add_user(db:list, student:dict):\n",
    "    db.append(student)        "
   ]
  },
  {
   "cell_type": "code",
   "execution_count": 76,
   "id": "2ec8867c-6639-497b-9beb-ccd11420b82b",
   "metadata": {},
   "outputs": [],
   "source": [
    "def listall(db:list):\n",
    "    print(f'{\"이름\": 10}{\"나이\":8}{\"주소\":30}{\"전공\":8}')\n",
    "    for i in db:\n",
    "        n = i['name']\n",
    "        a = i['age']\n",
    "        ad = i['address']\n",
    "        m = i['major']\n",
    "        print(f'{n:10} {a:4} {ad:30} {m:8}')        "
   ]
  },
  {
   "cell_type": "code",
   "execution_count": 46,
   "id": "4f1c973a-a38d-414c-a54e-f69e7bb1f308",
   "metadata": {},
   "outputs": [],
   "source": [
    "add_user(students, name='홍길동', age=20, address='서울', major='컴')"
   ]
  },
  {
   "cell_type": "code",
   "execution_count": null,
   "id": "2675b12e-3f7a-4428-8de5-6089861ae844",
   "metadata": {},
   "outputs": [],
   "source": [
    "listall(students)"
   ]
  },
  {
   "cell_type": "code",
   "execution_count": null,
   "id": "375dcea7-ef7c-4339-8275-a54f745d4af0",
   "metadata": {},
   "outputs": [],
   "source": [
    "def update_students():\n",
    "    pass"
   ]
  },
  {
   "cell_type": "code",
   "execution_count": 47,
   "id": "c067d700-1e4a-4efb-8800-bc48d50f0097",
   "metadata": {},
   "outputs": [],
   "source": [
    "def delete_students():\n",
    "    pass"
   ]
  },
  {
   "cell_type": "code",
   "execution_count": 63,
   "id": "9dbd5fa7-5700-47ba-855d-7448a0c1b819",
   "metadata": {},
   "outputs": [],
   "source": [
    "students = []"
   ]
  },
  {
   "cell_type": "code",
   "execution_count": 64,
   "id": "23a47d01-31d9-4104-9c32-ca5ab4e76431",
   "metadata": {},
   "outputs": [],
   "source": [
    "class Student:\n",
    "    student_number = 1\n",
    "    def __init__(self, name, age, phone, address, major):\n",
    "        self.name = name\n",
    "        self.age = age\n",
    "        self.phone = phone\n",
    "        self.address = address\n",
    "        self.major = major\n",
    "        Student.student_number += 1\n",
    "    def update(self, name, age, phone):\n",
    "        pass"
   ]
  },
  {
   "cell_type": "code",
   "execution_count": 65,
   "id": "b85bf0c8-53d8-403e-9312-330747845a39",
   "metadata": {},
   "outputs": [],
   "source": [
    "def add_user(db:list, s:Student):\n",
    "    db.append(s)"
   ]
  },
  {
   "cell_type": "code",
   "execution_count": 66,
   "id": "20e05fe0-4e13-4f51-8e76-974a40403e13",
   "metadata": {},
   "outputs": [],
   "source": [
    "def listall(db:list):\n",
    "    print(f'{\"이름\":10}{\"나이\":8}{\"주소\":30}{\"전공\":8}')\n",
    "    for i in db:\n",
    "        n = i.name\n",
    "        a = i.age\n",
    "        ad = i.address\n",
    "        m = i.major\n",
    "        print(f'{n:10}{a:8}{ad:30}{m:8}')"
   ]
  },
  {
   "cell_type": "code",
   "execution_count": 67,
   "id": "88b06d56-cb82-464a-a1df-e880ff7c1766",
   "metadata": {},
   "outputs": [],
   "source": [
    "s = Student('김영수',30,'101-1010','서울','컴퓨터')"
   ]
  },
  {
   "cell_type": "code",
   "execution_count": 68,
   "id": "d4e98976-1727-4094-9e70-cf1b0250eff5",
   "metadata": {},
   "outputs": [],
   "source": [
    "add_user(students, s)"
   ]
  },
  {
   "cell_type": "code",
   "execution_count": 69,
   "id": "36d3564c-2fae-4914-8b25-0c44d3ddba97",
   "metadata": {},
   "outputs": [],
   "source": [
    "add_user(students, Student('수성동', 33,'201-2010', '김포','컴퓨터'))"
   ]
  },
  {
   "cell_type": "code",
   "execution_count": null,
   "id": "cd3a930c-0058-4c63-9408-929758a5d717",
   "metadata": {},
   "outputs": [],
   "source": []
  }
 ],
 "metadata": {
  "kernelspec": {
   "display_name": "Python 3 (ipykernel)",
   "language": "python",
   "name": "python3"
  },
  "language_info": {
   "codemirror_mode": {
    "name": "ipython",
    "version": 3
   },
   "file_extension": ".py",
   "mimetype": "text/x-python",
   "name": "python",
   "nbconvert_exporter": "python",
   "pygments_lexer": "ipython3",
   "version": "3.10.8"
  }
 },
 "nbformat": 4,
 "nbformat_minor": 5
}
