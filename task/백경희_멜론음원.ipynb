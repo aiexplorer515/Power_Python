{
 "cells": [
  {
   "cell_type": "code",
   "execution_count": 1,
   "id": "b2bf2420-28c1-4abb-b53a-61ce5370d407",
   "metadata": {},
   "outputs": [],
   "source": [
    "def melon_crawling():\n",
    "    import requests\n",
    "    from bs4 import BeautifulSoup\n",
    "    \n",
    "    header = {'User-Agent': 'Mozilla/5.0 (Windows NT 6.3; Trident/7.0; rv:11.0) like Gecko'}\n",
    "    url='https://www.melon.com/chart/week/index.htm'\n",
    "    response = requests.get(url, headers = header)\n",
    "    soup = BeautifulSoup(response.text, 'lxml')\n",
    "\n",
    "    titles = soup.find_all(\"div\", {\"class\": \"ellipsis rank01\"}) \n",
    "    albums = soup.find_all(\"div\",{\"class\": \"ellipsis rank03\"})\n",
    "    \n",
    "    title = []\n",
    "    album = []\n",
    "       \n",
    "    for t in titles:\n",
    "        title.append(t.find('a').text)\n",
    "\n",
    "    for a in albums:\n",
    "        album.append(a.find('a').text)\n",
    " \n",
    "    return title, album"
   ]
  },
  {
   "cell_type": "code",
   "execution_count": 2,
   "id": "90ffc1e7-fa37-42a8-89bb-167747884084",
   "metadata": {},
   "outputs": [],
   "source": [
    "def to_csv(title:list, album:list, filename:str):\n",
    "    import csv\n",
    "    with open(filename,'w',newline='', encoding='utf-8') as csvfile:\n",
    "        f_writer = csv.writer(csvfile)\n",
    "        f_writer.writerow(['순위','곡정보','앨범'])\n",
    "        \n",
    "        for i in range(0, 100):\n",
    "            f_writer.writerow([str(i+1), title[i], album[i]])\n",
    "        print(f'{filename} 파일이 저장되었습니다.') "
   ]
  },
  {
   "cell_type": "code",
   "execution_count": 3,
   "id": "d815f333-aae5-4665-9acc-a96ed86b53ae",
   "metadata": {},
   "outputs": [
    {
     "name": "stdout",
     "output_type": "stream",
     "text": [
      "melon_rank_100.csv 파일이 저장되었습니다.\n"
     ]
    }
   ],
   "source": [
    "if __name__ == '__main__':\n",
    "    title, album = melon_crawling()\n",
    "    to_csv(title, album, 'melon_rank_100.csv')"
   ]
  },
  {
   "cell_type": "code",
   "execution_count": null,
   "id": "a7dc10c7-c6aa-46bc-ba4f-3e7bff66701f",
   "metadata": {},
   "outputs": [],
   "source": []
  }
 ],
 "metadata": {
  "kernelspec": {
   "display_name": "Python 3 (ipykernel)",
   "language": "python",
   "name": "python3"
  },
  "language_info": {
   "codemirror_mode": {
    "name": "ipython",
    "version": 3
   },
   "file_extension": ".py",
   "mimetype": "text/x-python",
   "name": "python",
   "nbconvert_exporter": "python",
   "pygments_lexer": "ipython3",
   "version": "3.10.8"
  }
 },
 "nbformat": 4,
 "nbformat_minor": 5
}
