{
 "cells": [
  {
   "cell_type": "markdown",
   "id": "308a232e-8267-4a3e-b909-431e57b3fb9a",
   "metadata": {
    "id": "308a232e-8267-4a3e-b909-431e57b3fb9a"
   },
   "source": [
    "### 221117 ~ 221121 일까지의 영화랭킹 알아보기 (BeautifulSoup 사용)"
   ]
  },
  {
   "cell_type": "code",
   "execution_count": null,
   "id": "3657d771-2aeb-470c-b62b-9c61b96c4099",
   "metadata": {
    "id": "3657d771-2aeb-470c-b62b-9c61b96c4099"
   },
   "outputs": [],
   "source": [
    "def crawling(start:str, due:int, d_data:dict):\n",
    "    import requests\n",
    "    from bs4 import BeautifulSoup\n",
    "    \n",
    "    s = 'https://movie.naver.com/movie/sdb/rank/rmovie.naver?sel=cnt&tg=0&date='\n",
    "    dates = []\n",
    "    for i in range(due):\n",
    "        dates.append(str(int(start)+i))\n",
    "    \n",
    "    for d in dates:\n",
    "        m_name =[]\n",
    "        response = requests.get(s+d)\n",
    "        soup = BeautifulSoup(response.text)\n",
    "        tags = soup.select('div[class=tit3]')\n",
    "    \n",
    "        for tag in tags:\n",
    "            m_name.append(tag.text.strip())\n",
    "        \n",
    "        d_data[d]=m_name  \n",
    "    return d_data"
   ]
  },
  {
   "cell_type": "code",
   "execution_count": null,
   "id": "b34e502e-2ef3-45c9-a930-79ef0051d920",
   "metadata": {
    "id": "b34e502e-2ef3-45c9-a930-79ef0051d920"
   },
   "outputs": [],
   "source": [
    "def to_csv(filename:str, d_data:dict):\n",
    "    import csv\n",
    "    with open(filename,'w',newline='',encoding='utf-8') as csvfile:\n",
    "        s_writer = csv.writer(csvfile)\n",
    "        s_writer.writerow(['날짜','영화순위'])\n",
    "    \n",
    "        result = d_data.items()\n",
    "        for i in result:\n",
    "            s_writer.writerow(i)\n",
    "    print(filename+\"파일이 저장되었습니다.\")"
   ]
  },
  {
   "cell_type": "code",
   "execution_count": null,
   "id": "965da0bc-77c4-4f75-9844-e21d3d235c79",
   "metadata": {
    "id": "965da0bc-77c4-4f75-9844-e21d3d235c79",
    "outputId": "3c920d88-1671-4633-ddad-2ab5408bd432"
   },
   "outputs": [
    {
     "name": "stdout",
     "output_type": "stream",
     "text": [
      "data/movie_rank.csv파일이 저장되었습니다.\n"
     ]
    }
   ],
   "source": [
    "if __name__ == '__main__':\n",
    "    m_rank_dict = {}\n",
    "    m_rank_dict = crawling('20221117', 5, m_rank_dict)\n",
    "    \n",
    "    to_csv(\"data/movie_rank.csv\", m_rank_dict)"
   ]
  },
  {
   "cell_type": "code",
   "execution_count": null,
   "id": "013603e5-4ff3-40a4-9115-8e35405154a6",
   "metadata": {
    "id": "013603e5-4ff3-40a4-9115-8e35405154a6"
   },
   "outputs": [],
   "source": []
  }
 ],
 "metadata": {
  "colab": {
   "provenance": []
  },
  "kernelspec": {
   "display_name": "Python 3 (ipykernel)",
   "language": "python",
   "name": "python3"
  },
  "language_info": {
   "codemirror_mode": {
    "name": "ipython",
    "version": 3
   },
   "file_extension": ".py",
   "mimetype": "text/x-python",
   "name": "python",
   "nbconvert_exporter": "python",
   "pygments_lexer": "ipython3",
   "version": "3.10.8"
  }
 },
 "nbformat": 4,
 "nbformat_minor": 5
}
