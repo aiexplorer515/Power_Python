{
 "cells": [
  {
   "cell_type": "code",
   "execution_count": 12,
   "id": "f61491e2",
   "metadata": {
    "id": "f61491e2"
   },
   "outputs": [],
   "source": [
    "def print_menu():\n",
    "    print(\"1. 학생정보 입력\")\n",
    "    print(\"2. 학생정보 검색\")\n",
    "    print(\"3. 학생정보 출력\")\n",
    "    print(\"4. 학생정보 파일\")\n",
    "    print(\"5. 종료\")\n",
    "    menu = input('메뉴선택:')\n",
    "    return menu"
   ]
  },
  {
   "cell_type": "code",
   "execution_count": 5,
   "id": "266aa37e-a180-4046-aaee-e90b65534825",
   "metadata": {
    "id": "258ffff1-519f-42d4-b20b-6757233ea055"
   },
   "outputs": [],
   "source": [
    "import re\n",
    "\n",
    "def load_info():\n",
    "    try:\n",
    "        with open(\"./db.txt\", \"rt\", encoding=\"utf8\") as f:\n",
    "            while True:\n",
    "                line = f.readline()\n",
    "                line = re.sub('\\n','',line)\n",
    "                if not line:\n",
    "                    break\n",
    "                stu_info.append(line.split(','))\n",
    "    except FileNotFoundError:\n",
    "        print(\"학생정보 파일이 없습니다!!!\")\n",
    "    return"
   ]
  },
  {
   "cell_type": "code",
   "execution_count": 22,
   "id": "7afebd2d-0730-4410-b10b-525084bac634",
   "metadata": {
    "id": "73c6eec2-3fdf-46c0-9bff-1db1d1a3202c"
   },
   "outputs": [],
   "source": [
    "def file_info():\n",
    "    while(1):\n",
    "        print(\"1. 파일작업 선택(1. 저장, 2. 불러오기, 3. 이전\")\n",
    "        in_s = input('번호를 선택하세요')\n",
    "        if in_s == '1':\n",
    "            with open(\"./db.txt\", \"wt\",encoding='utf-8') as f:\n",
    "                for i in range(len(stu_info)):\n",
    "                    data =','.join(stu_info[i])+'\\n'\n",
    "                    f.write(data)\n",
    "            print(\"db.txt 파일로 저장하였습니다.\")\n",
    "        elif in_s == '2':\n",
    "            try:\n",
    "                with open(\"./db.txt\", \"rt\", encoding=\"utf8\") as f:\n",
    "                    while True:\n",
    "                        line = f.readline()\n",
    "                        line = re.sub('\\n','',line)\n",
    "                        if not line:\n",
    "                            break\n",
    "                        stu_info.append(line.split(','))\n",
    "                print(\"db.txt 불러오기를 하였습니다.\")\n",
    "            except FileNotFoundError:\n",
    "                print(\"학생정보 파일이 없습니다!!!\")\n",
    "        else:\n",
    "            return\n",
    "    return"
   ]
  },
  {
   "cell_type": "code",
   "execution_count": 23,
   "id": "3fd205b1",
   "metadata": {
    "id": "3fd205b1"
   },
   "outputs": [],
   "source": [
    "def insert_menu():\n",
    "    print(\"1. 이름\")\n",
    "    print(\"2. 나이\")\n",
    "    print(\"3. 전공\")\n",
    "    print(\"4. 전화번호\")\n",
    "    print(\"5. 주소를 콤마로 구분하여 입력하세요\")\n",
    "    s = input().split(',')\n",
    "    s.insert(0, str(len(stu_info)+1))\n",
    "    stu_info.append(s)\n",
    "    return"
   ]
  },
  {
   "cell_type": "code",
   "execution_count": 24,
   "id": "d16882b8-fb18-481d-b5d8-8d624ccbb448",
   "metadata": {
    "id": "3fd205b1"
   },
   "outputs": [],
   "source": [
    "def select_menu():\n",
    "    for i in range(len(stu_info)):\n",
    "        print(stu_info[i])\n",
    "    return"
   ]
  },
  {
   "cell_type": "code",
   "execution_count": 29,
   "id": "452d6bdf-7e2e-48b6-8b7d-400ae815e88a",
   "metadata": {
    "id": "452d6bdf-7e2e-48b6-8b7d-400ae815e88a"
   },
   "outputs": [],
   "source": [
    "def search_menu():\n",
    "    while(1):\n",
    "        print(\"1. 검색선택(1. 번호, 2. 이름, 3. 이전\")\n",
    "        in_s = input('번호를 선택하세요')\n",
    "        if in_s == '1':\n",
    "            stu_no = input('학생번호를 입력하세요')\n",
    "            for ind in stu_info:\n",
    "                if ind[0].strip() == stu_no:\n",
    "                    print(ind)\n",
    "        elif in_s == '2':\n",
    "            stu_no = input('학생이름을 입력하세요')\n",
    "            for ind in stu_info:\n",
    "                if ind[1].strip() == stu_no:\n",
    "                    print(ind)\n",
    "        else:\n",
    "            return\n",
    "        \n",
    "    return "
   ]
  },
  {
   "cell_type": "code",
   "execution_count": 31,
   "id": "7b4ff51e-464e-4fbe-ac92-99599bc1a2e9",
   "metadata": {
    "id": "d67472f1-328d-4237-81b6-0459663051aa",
    "outputId": "704a3c48-7892-4986-f04d-495ecafb93be"
   },
   "outputs": [
    {
     "name": "stdout",
     "output_type": "stream",
     "text": [
      "****************************************\n",
      "2명의 학생정보가 있습니다\n",
      "****************************************\n",
      "1. 학생정보 입력\n",
      "2. 학생정보 검색\n",
      "3. 학생정보 출력\n",
      "4. 학생정보 파일\n",
      "5. 종료\n"
     ]
    },
    {
     "name": "stdin",
     "output_type": "stream",
     "text": [
      "메뉴선택: 3\n"
     ]
    },
    {
     "name": "stdout",
     "output_type": "stream",
     "text": [
      "['1', 'ww']\n",
      "['2', 'rr']\n",
      "****************************************\n",
      "2명의 학생정보가 있습니다\n",
      "****************************************\n",
      "1. 학생정보 입력\n",
      "2. 학생정보 검색\n",
      "3. 학생정보 출력\n",
      "4. 학생정보 파일\n",
      "5. 종료\n"
     ]
    },
    {
     "name": "stdin",
     "output_type": "stream",
     "text": [
      "메뉴선택: 2\n"
     ]
    },
    {
     "name": "stdout",
     "output_type": "stream",
     "text": [
      "1. 검색선택(1. 번호, 2. 이름, 3. 이전\n"
     ]
    },
    {
     "name": "stdin",
     "output_type": "stream",
     "text": [
      "번호를 선택하세요 2\n",
      "학생이름을 입력하세요 ww\n"
     ]
    },
    {
     "name": "stdout",
     "output_type": "stream",
     "text": [
      "['1', 'ww']\n",
      "1. 검색선택(1. 번호, 2. 이름, 3. 이전\n"
     ]
    },
    {
     "name": "stdin",
     "output_type": "stream",
     "text": [
      "번호를 선택하세요 3\n"
     ]
    },
    {
     "name": "stdout",
     "output_type": "stream",
     "text": [
      "****************************************\n",
      "2명의 학생정보가 있습니다\n",
      "****************************************\n",
      "1. 학생정보 입력\n",
      "2. 학생정보 검색\n",
      "3. 학생정보 출력\n",
      "4. 학생정보 파일\n",
      "5. 종료\n"
     ]
    },
    {
     "name": "stdin",
     "output_type": "stream",
     "text": [
      "메뉴선택: 1\n"
     ]
    },
    {
     "name": "stdout",
     "output_type": "stream",
     "text": [
      "1. 이름\n",
      "2. 나이\n",
      "3. 전공\n",
      "4. 전화번호\n",
      "5. 주소를 콤마로 구분하여 입력하세요\n"
     ]
    },
    {
     "name": "stdin",
     "output_type": "stream",
     "text": [
      " rr\n"
     ]
    },
    {
     "name": "stdout",
     "output_type": "stream",
     "text": [
      "****************************************\n",
      "3명의 학생정보가 있습니다\n",
      "****************************************\n",
      "1. 학생정보 입력\n",
      "2. 학생정보 검색\n",
      "3. 학생정보 출력\n",
      "4. 학생정보 파일\n",
      "5. 종료\n"
     ]
    },
    {
     "name": "stdin",
     "output_type": "stream",
     "text": [
      "메뉴선택: 4\n"
     ]
    },
    {
     "name": "stdout",
     "output_type": "stream",
     "text": [
      "1. 파일작업 선택(1. 저장, 2. 불러오기, 3. 이전\n"
     ]
    },
    {
     "name": "stdin",
     "output_type": "stream",
     "text": [
      "번호를 선택하세요 1\n"
     ]
    },
    {
     "name": "stdout",
     "output_type": "stream",
     "text": [
      "db.txt 파일로 저장하였습니다.\n",
      "1. 파일작업 선택(1. 저장, 2. 불러오기, 3. 이전\n"
     ]
    },
    {
     "name": "stdin",
     "output_type": "stream",
     "text": [
      "번호를 선택하세요 3\n"
     ]
    },
    {
     "name": "stdout",
     "output_type": "stream",
     "text": [
      "****************************************\n",
      "3명의 학생정보가 있습니다\n",
      "****************************************\n",
      "1. 학생정보 입력\n",
      "2. 학생정보 검색\n",
      "3. 학생정보 출력\n",
      "4. 학생정보 파일\n",
      "5. 종료\n"
     ]
    },
    {
     "name": "stdin",
     "output_type": "stream",
     "text": [
      "메뉴선택: 5\n"
     ]
    }
   ],
   "source": [
    "# db.txt 에서 Dict 형태로 읽어옴\n",
    "p_flag = 1\n",
    "stu_info = []\n",
    "load_info()\n",
    "\n",
    "while(p_flag):\n",
    "    print(\"*\"*40)\n",
    "    print(\"%d명의 학생정보가 있습니다\" %len(stu_info))\n",
    "    print(\"*\"*40)\n",
    "    menu_d = print_menu()\n",
    "    if menu_d == '1':\n",
    "        insert_menu()\n",
    "    elif menu_d == '2':\n",
    "        search_menu()\n",
    "    elif menu_d == '3':\n",
    "        select_menu()\n",
    "    elif menu_d == '4':\n",
    "        file_info()\n",
    "    elif menu_d == '5':\n",
    "        p_flag = 0\n",
    "    else:\n",
    "        print(\"잘못 입력하였습니다.\")\n",
    "    5"
   ]
  },
  {
   "cell_type": "code",
   "execution_count": null,
   "id": "41d59c3d-596f-45f6-9f48-2297e250f228",
   "metadata": {},
   "outputs": [],
   "source": []
  },
  {
   "cell_type": "code",
   "execution_count": null,
   "id": "fc816aba-883f-42d9-a54a-ecd06457c8d3",
   "metadata": {},
   "outputs": [],
   "source": []
  }
 ],
 "metadata": {
  "colab": {
   "provenance": []
  },
  "kernelspec": {
   "display_name": "Python 3 (ipykernel)",
   "language": "python",
   "name": "python3"
  },
  "language_info": {
   "codemirror_mode": {
    "name": "ipython",
    "version": 3
   },
   "file_extension": ".py",
   "mimetype": "text/x-python",
   "name": "python",
   "nbconvert_exporter": "python",
   "pygments_lexer": "ipython3",
   "version": "3.10.8"
  }
 },
 "nbformat": 4,
 "nbformat_minor": 5
}
