{
  "cells": [
    {
      "cell_type": "markdown",
      "id": "d3700563-821c-4cab-8514-86d349fc8426",
      "metadata": {
        "id": "d3700563-821c-4cab-8514-86d349fc8426"
      },
      "source": [
        "![image.png](attachment:6cc6fa38-b0c1-4962-9cc5-76ec6a7c71d9.png)"
      ]
    },
    {
      "cell_type": "markdown",
      "id": "2bec592d-696b-4a68-a4dd-98919be3b12a",
      "metadata": {
        "id": "2bec592d-696b-4a68-a4dd-98919be3b12a"
      },
      "source": [
        "### 영화 상영예정작\n",
        "1. 제목/{네티즌평점/참여인원}/기자평점/인원}/감독/출연진/개봉일\n",
        "1. 이름_영화상영예정'"
      ]
    },
    {
      "cell_type": "code",
      "execution_count": null,
      "id": "7fa905b1-94b8-4215-901f-fa5a776a4beb",
      "metadata": {
        "id": "7fa905b1-94b8-4215-901f-fa5a776a4beb"
      },
      "outputs": [],
      "source": [
        "def to_csv(data:list, filename:str): # data 전달받아 csv 파일 저장\n",
        "    import csv\n",
        "    with open(filename,'w',newline='',encoding='utf-8') as csvfile:\n",
        "        s_writer = csv.writer(csvfile)\n",
        "        s_writer.writerow(['제목','네티즌평점','기자평점','네티즌참여','기자참여','감독','출연진']) \n",
        "        for m in movie_rank:\n",
        "            values = m.values()\n",
        "            s_writer.writerow(values)\n",
        "        print(filename+\"파일이 저장되었습니다.\") "
      ]
    },
    {
      "cell_type": "code",
      "execution_count": null,
      "id": "65203fa1-e58b-47be-9206-ff6fc6c2db2f",
      "metadata": {
        "id": "65203fa1-e58b-47be-9206-ff6fc6c2db2f"
      },
      "outputs": [],
      "source": [
        "def crawling(url:str):\n",
        "    import requests\n",
        "    from bs4 import BeautifulSoup\n",
        "    \n",
        "    response = requests.get(s)\n",
        "    \n",
        "    soup = BeautifulSoup(response.text)\n",
        "    movie = soup.find_all('dl',{'class':'lst_dsc'})\n",
        "    \n",
        "    n = 1\n",
        "    movie_rank = []\n",
        "    for i in movie: \n",
        "        movie_info={} \n",
        "        actor=[]\n",
        "        movie_info[\"제목\"] = i.select('#content > div.article > div > div.lst_wrap > ul > li:nth-child(n) > dl > dt > a')[0].text\n",
        "    \n",
        "        p_list = i.find_all('span',{'class':'num'})\n",
        "        movie_info[\"네티즌평점\"]=p_list[0].text\n",
        "        if len(p_list) == 2:\n",
        "            movie_info[\"기자평점\"]=p_list[1].text\n",
        "    \n",
        "        p_list = i.find_all('em')\n",
        "        movie_info[\"네티즌참여\"]=p_list[0].text\n",
        "        if len(p_list) == 2:\n",
        "            movie_info[\"기자참여\"]=p_list[1].text\n",
        "\n",
        "        movie_info[\"감독\"] = i.select('#content > div.article > div > div.lst_wrap > ul > li:nth-child(n) > dl > dd:nth-child(3) > dl > dd:nth-child(4) > span > a')[0].text\n",
        "        temp = i.select('#content > div.article > div > div.lst_wrap > ul > li:nth-child(n) > dl > dd:nth-child(3) > dl > dd:nth-child(6) > span > a')\n",
        "        for i in temp:\n",
        "            actor.append(i.text)\n",
        "        movie_info[\"출연진\"]=actor\n",
        "        #movie_info[\"개봉일\"] = i.select('id=\"content\"]/div[1]/div/div[3]/ul/li[14]/dl/dd[2]/dl/dd[1]/text()[2]\n",
        "        n += 1\n",
        "        movie_rank.append(movie_info)\n",
        "    "
      ]
    },
    {
      "cell_type": "code",
      "execution_count": null,
      "id": "095bb6b9-546e-4677-b1c5-f4fefc0194ec",
      "metadata": {
        "id": "095bb6b9-546e-4677-b1c5-f4fefc0194ec",
        "outputId": "7d27be77-3b83-405f-c4ab-60c09de9f6ba"
      },
      "outputs": [
        {
          "name": "stdout",
          "output_type": "stream",
          "text": [
            "data/movie_open.csv파일이 저장되었습니다.\n"
          ]
        }
      ],
      "source": [
        "if __name__ == '__main__':\n",
        "    s = 'https://movie.naver.com/movie/running/current.naver'\n",
        "    \n",
        "    crawling(s)\n",
        "    \n",
        "    to_csv(movie_rank, \"data/movie_open.csv\")\n"
      ]
    },
    {
      "cell_type": "code",
      "execution_count": null,
      "id": "4b9fbca5-a891-4618-ac74-1f71630836e2",
      "metadata": {
        "id": "4b9fbca5-a891-4618-ac74-1f71630836e2"
      },
      "outputs": [],
      "source": []
    },
    {
      "cell_type": "code",
      "execution_count": null,
      "id": "f80bbe6e-ec78-45c1-8cb3-fdb5e409f875",
      "metadata": {
        "id": "f80bbe6e-ec78-45c1-8cb3-fdb5e409f875"
      },
      "outputs": [],
      "source": []
    },
    {
      "cell_type": "code",
      "execution_count": null,
      "id": "2c31dfaf-4187-4127-b961-5035db6ac1ca",
      "metadata": {
        "id": "2c31dfaf-4187-4127-b961-5035db6ac1ca"
      },
      "outputs": [],
      "source": []
    }
  ],
  "metadata": {
    "kernelspec": {
      "display_name": "Python 3 (ipykernel)",
      "language": "python",
      "name": "python3"
    },
    "language_info": {
      "codemirror_mode": {
        "name": "ipython",
        "version": 3
      },
      "file_extension": ".py",
      "mimetype": "text/x-python",
      "name": "python",
      "nbconvert_exporter": "python",
      "pygments_lexer": "ipython3",
      "version": "3.10.8"
    },
    "colab": {
      "provenance": []
    }
  },
  "nbformat": 4,
  "nbformat_minor": 5
}