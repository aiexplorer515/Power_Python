{
 "cells": [
  {
   "cell_type": "code",
   "execution_count": 7,
   "id": "12ece4a9-8015-4fad-9051-ede45873489a",
   "metadata": {},
   "outputs": [],
   "source": [
    "class Human:\n",
    "    pass"
   ]
  },
  {
   "cell_type": "code",
   "execution_count": 8,
   "id": "8e56b726-9d42-42b3-8bce-9ad1af4a307f",
   "metadata": {},
   "outputs": [],
   "source": [
    "saram = Human()"
   ]
  },
  {
   "cell_type": "code",
   "execution_count": 11,
   "id": "7c3e9da1-dd81-4228-8294-e2f695223ecf",
   "metadata": {},
   "outputs": [],
   "source": [
    "class Human:\n",
    "    def __init__(self):\n",
    "        print(\"say hello\")"
   ]
  },
  {
   "cell_type": "code",
   "execution_count": 13,
   "id": "5f22be50-0345-477d-96eb-4589a69bc7b5",
   "metadata": {},
   "outputs": [
    {
     "name": "stdout",
     "output_type": "stream",
     "text": [
      "say hello\n"
     ]
    }
   ],
   "source": [
    "saram = Human()"
   ]
  },
  {
   "cell_type": "code",
   "execution_count": 4,
   "id": "c303e6f3-5bf1-4cc8-af88-50b66889d505",
   "metadata": {},
   "outputs": [],
   "source": [
    "class Human:\n",
    "    def __init__(self, name, age, sex):\n",
    "        self.name = name\n",
    "        self.age = age\n",
    "        self.sex = sex"
   ]
  },
  {
   "cell_type": "code",
   "execution_count": 2,
   "id": "adaaeb71-a09b-47ed-95b1-afb6c056b9af",
   "metadata": {},
   "outputs": [
    {
     "name": "stdout",
     "output_type": "stream",
     "text": [
      "아름\n"
     ]
    }
   ],
   "source": [
    "saram = Human(\"아름\", 25,\"여자\")\n",
    "print(saram.name)"
   ]
  },
  {
   "cell_type": "code",
   "execution_count": 14,
   "id": "6a2e923a-fcc3-4825-9502-21863c64e72c",
   "metadata": {},
   "outputs": [],
   "source": [
    "class stock:\n",
    "    pass"
   ]
  },
  {
   "cell_type": "code",
   "execution_count": 15,
   "id": "3e7cfefa-fdc1-4431-87f6-350d7bb6207f",
   "metadata": {},
   "outputs": [],
   "source": [
    "class stock:\n",
    "    def __init__(self, name, code):\n",
    "        self.name = name\n",
    "        self.code = code"
   ]
  },
  {
   "cell_type": "code",
   "execution_count": 16,
   "id": "11c37012-c91e-4a9b-852e-e8f1a612869d",
   "metadata": {},
   "outputs": [],
   "source": [
    "삼성 = stock(\"삼성전자\",\"005930\")"
   ]
  },
  {
   "cell_type": "code",
   "execution_count": 17,
   "id": "87f8a241-71b7-4a97-a709-b4054b87d05c",
   "metadata": {},
   "outputs": [
    {
     "data": {
      "text/plain": [
       "'삼성전자'"
      ]
     },
     "execution_count": 17,
     "metadata": {},
     "output_type": "execute_result"
    }
   ],
   "source": [
    "삼성.name"
   ]
  },
  {
   "cell_type": "code",
   "execution_count": 18,
   "id": "4d2bb060-9952-43b9-9059-1c52f26d5540",
   "metadata": {},
   "outputs": [],
   "source": [
    "class stock:\n",
    "    def __init__(self, name, code):\n",
    "        self.name = name\n",
    "        self.code = code\n",
    "    \n",
    "    def set_name(self, name):\n",
    "        self.name = name\n",
    "    \n",
    "    def set_code(self, code):\n",
    "        self.code = code"
   ]
  },
  {
   "cell_type": "code",
   "execution_count": 21,
   "id": "48e3241c-3d59-4594-add3-9103c214b6ac",
   "metadata": {},
   "outputs": [],
   "source": [
    "a = stock(None, None)"
   ]
  },
  {
   "cell_type": "code",
   "execution_count": 22,
   "id": "e11fa242-7500-4539-b9bb-e40d31f2dc7e",
   "metadata": {},
   "outputs": [],
   "source": [
    "a.set_name(\"삼성전자\")"
   ]
  },
  {
   "cell_type": "code",
   "execution_count": 24,
   "id": "e3c33e1d-ec33-491c-8228-d64bbcd525e3",
   "metadata": {},
   "outputs": [],
   "source": [
    "a.set_code(\"005930\")"
   ]
  },
  {
   "cell_type": "code",
   "execution_count": 26,
   "id": "b02b3221-f9f5-474b-bab1-11e98b5cf5bf",
   "metadata": {},
   "outputs": [
    {
     "data": {
      "text/plain": [
       "('삼성전자', '005930')"
      ]
     },
     "execution_count": 26,
     "metadata": {},
     "output_type": "execute_result"
    }
   ],
   "source": [
    "a.name, a.code"
   ]
  },
  {
   "cell_type": "code",
   "execution_count": 29,
   "id": "20a81f9d-50fb-47fb-82d7-95050610d7eb",
   "metadata": {},
   "outputs": [],
   "source": [
    "class stock:\n",
    "    def __init__(self, name, code):\n",
    "        self.name = name\n",
    "        self.code = code\n",
    "    \n",
    "    def set_name(self, name):\n",
    "        self.name = name\n",
    "    \n",
    "    def set_code(self, code):\n",
    "        self.code = code\n",
    "        \n",
    "    def get_name(self):\n",
    "        return self.name\n",
    "    \n",
    "    def get_code(self):\n",
    "        return self.code"
   ]
  },
  {
   "cell_type": "code",
   "execution_count": 31,
   "id": "c159f188-2f2d-4ab1-a294-205cdffc9b4d",
   "metadata": {},
   "outputs": [],
   "source": [
    "a=stock(None, None)"
   ]
  },
  {
   "cell_type": "code",
   "execution_count": 32,
   "id": "6468fe9c-1e06-4e04-a975-bc9069a731ab",
   "metadata": {},
   "outputs": [],
   "source": [
    "a.set_name(\"삼성전자\")"
   ]
  },
  {
   "cell_type": "code",
   "execution_count": 33,
   "id": "0eda7c85-56e9-4bd7-874c-69e8bc0079c0",
   "metadata": {},
   "outputs": [
    {
     "data": {
      "text/plain": [
       "'삼성전자'"
      ]
     },
     "execution_count": 33,
     "metadata": {},
     "output_type": "execute_result"
    }
   ],
   "source": [
    "a.get_name()"
   ]
  }
 ],
 "metadata": {
  "kernelspec": {
   "display_name": "Python 3 (ipykernel)",
   "language": "python",
   "name": "python3"
  },
  "language_info": {
   "codemirror_mode": {
    "name": "ipython",
    "version": 3
   },
   "file_extension": ".py",
   "mimetype": "text/x-python",
   "name": "python",
   "nbconvert_exporter": "python",
   "pygments_lexer": "ipython3",
   "version": "3.10.8"
  }
 },
 "nbformat": 4,
 "nbformat_minor": 5
}
